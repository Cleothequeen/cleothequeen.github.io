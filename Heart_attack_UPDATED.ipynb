{
 "cells": [
  {
   "cell_type": "markdown",
   "id": "005f9f80",
   "metadata": {},
   "source": [
    "## Dataset Description\n",
    "\n",
    "This dataset contains detailed information about patients who have experienced heart attacks, collected to analyze the risk factors and patterns associated with these medical events. The dataset includes a variety of attributes related to patient health, medical history, lifestyle habits, and types of treatment received. Analyzing this data can provide valuable insights into the prevalence of heart attacks across different demographics and the effectiveness of various treatment approaches.\n",
    "\n",
    "### Dataset Attributes\n",
    "\n",
    "* Gender: The gender of the patient (Male/Female).\n",
    "* Age: The age of the patient in years.\n",
    "* Blood Pressure (mmHg): The blood pressure of the patient measured in millimeters of mercury (mmHg).\n",
    "* Cholesterol (mg/dL): The cholesterol level in the patient's blood measured in milligrams per deciliter (mg/dL).\n",
    "* Has Diabetes: Indicates whether the patient has diabetes (Yes/No).\n",
    "* Smoking Status: The smoking status of the patient (Never, Former, Current).\n",
    "* Chest Pain Type: The type of chest pain experienced by the patient (Typical Angina, Atypical Angina, Non-anginal Pain).\n",
    "* Treatment: The type of treatment received by the patient (Lifestyle Changes, Angioplasty, Coronary Artery Bypass Graft (CABG), Medication).\n",
    "\n",
    "\n",
    "## Analysis Objective\n",
    "\n",
    "The objective of this analysis is to explore and identify the most significant risk factors associated with heart attacks, understand the distribution of patients regarding key variables such as age, gender, and lifestyle habits, and evaluate the effectiveness of different treatments based on the available data. This analysis can help healthcare professionals and researchers develop more effective strategies for the prevention and treatment of heart attacks.\n",
    "\n",
    "## Methodology\n",
    "\n",
    "* Exploratory Data Analysis (EDA): Explore the dataset to understand the distribution and correlation of variables.\n",
    "* Data Cleaning: Identify and handle missing or inconsistent data.\n",
    "* Statistical Analysis: Perform descriptive and inferential analyses to identify patterns and correlations.\n",
    "* Data Visualization: Create graphs and visualizations to better interpret the data and communicate the insights found.\n",
    "* Conclusions: Summarize the main findings and their implications for public health and medical treatments.\n",
    "* This description should be placed at the beginning of your work to provide a clear and comprehensive overview of the dataset and the objective of the analysis.\n",
    "\n",
    "This dataset contains clinical information about patients and aims to help predict the risk of a heart attack based on various medical features.\n",
    "\n",
    "The goal is to identify meaningful patterns and predictive features related to heart attacks using exploratory data analysis, statistical testing, and classification models.\n",
    "\n",
    "Steps include: loading and cleaning the dataset, performing descriptive and inferential analysis, and applying predictive modeling techniques.\n",
    "\n",
    "### Final Summary:\n",
    "- The dataset showed a wide distribution in age and blood pressure.\n",
    "- T-tests revealed no significant gender-based differences in blood pressure.\n",
    "- Regression models had low explanatory power, suggesting nonlinear or complex relationships.\n",
    "- Classification models performed poorly (accuracy ~45–52%), indicating that the features may not be strong predictors of heart attack risk.\n",
    "- Further work could involve better feature engineering, re-evaluation of the target variable, and more complex modeling approaches."
   ]
  },
  {
   "cell_type": "markdown",
   "id": "f1ff0d51",
   "metadata": {},
   "source": [
    "### Library"
   ]
  },
  {
   "cell_type": "code",
   "execution_count": 32,
   "id": "514dd353",
   "metadata": {},
   "outputs": [],
   "source": [
    "import pandas as pd\n",
    "import numpy as np\n",
    "import matplotlib.pyplot as plt\n",
    "import seaborn as sns\n",
    "import warnings\n",
    "from scipy.stats import ttest_ind, f_oneway\n",
    "import statsmodels.api as sm\n",
    "from sklearn.preprocessing import StandardScaler, OneHotEncoder\n",
    "from sklearn.compose import ColumnTransformer\n",
    "from sklearn.pipeline import Pipeline\n",
    "from sklearn.model_selection import train_test_split\n",
    "from sklearn.linear_model import LogisticRegression\n",
    "from sklearn.ensemble import RandomForestClassifier\n",
    "from sklearn.metrics import accuracy_score, classification_report\n",
    "from sklearn.preprocessing import OneHotEncoder\n",
    "from sklearn.compose import ColumnTransformer\n",
    "from sklearn.model_selection import train_test_split\n",
    "from sklearn.linear_model import LogisticRegression\n",
    "from sklearn.preprocessing import StandardScaler\n",
    "\n",
    "\n",
    "warnings.simplefilter(action='ignore', category=FutureWarning)\n",
    "import plotly.graph_objects as go"
   ]
  },
  {
   "cell_type": "code",
   "execution_count": 33,
   "id": "efe80819",
   "metadata": {},
   "outputs": [],
   "source": [
    "df = pd.read_csv('heart_attack_dataset.csv')"
   ]
  },
  {
   "cell_type": "code",
   "execution_count": 34,
   "id": "c2ea3901",
   "metadata": {},
   "outputs": [
    {
     "data": {
      "text/html": [
       "<div>\n",
       "<style scoped>\n",
       "    .dataframe tbody tr th:only-of-type {\n",
       "        vertical-align: middle;\n",
       "    }\n",
       "\n",
       "    .dataframe tbody tr th {\n",
       "        vertical-align: top;\n",
       "    }\n",
       "\n",
       "    .dataframe thead th {\n",
       "        text-align: right;\n",
       "    }\n",
       "</style>\n",
       "<table border=\"1\" class=\"dataframe\">\n",
       "  <thead>\n",
       "    <tr style=\"text-align: right;\">\n",
       "      <th></th>\n",
       "      <th>Gender</th>\n",
       "      <th>Age</th>\n",
       "      <th>Blood Pressure (mmHg)</th>\n",
       "      <th>Cholesterol (mg/dL)</th>\n",
       "      <th>Has Diabetes</th>\n",
       "      <th>Smoking Status</th>\n",
       "      <th>Chest Pain Type</th>\n",
       "      <th>Treatment</th>\n",
       "    </tr>\n",
       "  </thead>\n",
       "  <tbody>\n",
       "    <tr>\n",
       "      <th>0</th>\n",
       "      <td>Male</td>\n",
       "      <td>70</td>\n",
       "      <td>181</td>\n",
       "      <td>262</td>\n",
       "      <td>No</td>\n",
       "      <td>Never</td>\n",
       "      <td>Typical Angina</td>\n",
       "      <td>Lifestyle Changes</td>\n",
       "    </tr>\n",
       "    <tr>\n",
       "      <th>1</th>\n",
       "      <td>Female</td>\n",
       "      <td>55</td>\n",
       "      <td>103</td>\n",
       "      <td>253</td>\n",
       "      <td>Yes</td>\n",
       "      <td>Never</td>\n",
       "      <td>Atypical Angina</td>\n",
       "      <td>Angioplasty</td>\n",
       "    </tr>\n",
       "    <tr>\n",
       "      <th>2</th>\n",
       "      <td>Male</td>\n",
       "      <td>42</td>\n",
       "      <td>95</td>\n",
       "      <td>295</td>\n",
       "      <td>Yes</td>\n",
       "      <td>Current</td>\n",
       "      <td>Typical Angina</td>\n",
       "      <td>Angioplasty</td>\n",
       "    </tr>\n",
       "    <tr>\n",
       "      <th>3</th>\n",
       "      <td>Male</td>\n",
       "      <td>84</td>\n",
       "      <td>106</td>\n",
       "      <td>270</td>\n",
       "      <td>No</td>\n",
       "      <td>Never</td>\n",
       "      <td>Atypical Angina</td>\n",
       "      <td>Coronary Artery Bypass Graft (CABG)</td>\n",
       "    </tr>\n",
       "    <tr>\n",
       "      <th>4</th>\n",
       "      <td>Male</td>\n",
       "      <td>86</td>\n",
       "      <td>187</td>\n",
       "      <td>296</td>\n",
       "      <td>Yes</td>\n",
       "      <td>Current</td>\n",
       "      <td>Non-anginal Pain</td>\n",
       "      <td>Medication</td>\n",
       "    </tr>\n",
       "  </tbody>\n",
       "</table>\n",
       "</div>"
      ],
      "text/plain": [
       "   Gender  Age  Blood Pressure (mmHg)  Cholesterol (mg/dL) Has Diabetes  \\\n",
       "0    Male   70                    181                  262           No   \n",
       "1  Female   55                    103                  253          Yes   \n",
       "2    Male   42                     95                  295          Yes   \n",
       "3    Male   84                    106                  270           No   \n",
       "4    Male   86                    187                  296          Yes   \n",
       "\n",
       "  Smoking Status   Chest Pain Type                            Treatment  \n",
       "0          Never    Typical Angina                    Lifestyle Changes  \n",
       "1          Never   Atypical Angina                          Angioplasty  \n",
       "2        Current    Typical Angina                          Angioplasty  \n",
       "3          Never   Atypical Angina  Coronary Artery Bypass Graft (CABG)  \n",
       "4        Current  Non-anginal Pain                           Medication  "
      ]
     },
     "execution_count": 34,
     "metadata": {},
     "output_type": "execute_result"
    }
   ],
   "source": [
    "df.head()"
   ]
  },
  {
   "cell_type": "code",
   "execution_count": 35,
   "id": "96a9ba99",
   "metadata": {
    "scrolled": true
   },
   "outputs": [
    {
     "name": "stdout",
     "output_type": "stream",
     "text": [
      "<class 'pandas.core.frame.DataFrame'>\n",
      "RangeIndex: 1000 entries, 0 to 999\n",
      "Data columns (total 8 columns):\n",
      " #   Column                 Non-Null Count  Dtype \n",
      "---  ------                 --------------  ----- \n",
      " 0   Gender                 1000 non-null   object\n",
      " 1   Age                    1000 non-null   int64 \n",
      " 2   Blood Pressure (mmHg)  1000 non-null   int64 \n",
      " 3   Cholesterol (mg/dL)    1000 non-null   int64 \n",
      " 4   Has Diabetes           1000 non-null   object\n",
      " 5   Smoking Status         1000 non-null   object\n",
      " 6   Chest Pain Type        1000 non-null   object\n",
      " 7   Treatment              1000 non-null   object\n",
      "dtypes: int64(3), object(5)\n",
      "memory usage: 62.6+ KB\n"
     ]
    }
   ],
   "source": [
    "df.info()"
   ]
  },
  {
   "cell_type": "markdown",
   "id": "1fdba13c",
   "metadata": {},
   "source": [
    "#### Data Structure Observations\n",
    "\n",
    "###### Number of Entries:\n",
    "The dataset contains 1000 entries, meaning there are data from 1000 patients.\n",
    "###### Columns and Data Types:\n",
    "There are 8 columns in the dataset.\n",
    "The columns Age, Blood Pressure (mmHg), and Cholesterol (mg/dL) are of type int64, indicating they contain integer numerical values.\n",
    "The columns Gender, Has Diabetes, Smoking Status, Chest Pain Type, and Treatment are of type object, indicating they contain categorical values.\n",
    "###### Missing Values:\n",
    "There are no missing values in any of the columns, as indicated by the Non-Null Count which is 1000 for all columns.\n",
    "###### Memory Usage:\n",
    "The memory usage of the DataFrame is 62.6 KB, which is reasonably small and should be easy to handle for data analysis on most modern computers."
   ]
  },
  {
   "cell_type": "markdown",
   "id": "ac40dce2",
   "metadata": {},
   "source": [
    "## Implications of Observations\n",
    "\n",
    "##### Complete Data:\n",
    "The absence of missing values is good news, as it means we do not need to perform data cleaning steps to handle missing data. This makes the analysis more straightforward.\n",
    "\n",
    "##### Appropriate Data Types:\n",
    "The data types are appropriate for the intended analyses. Numerical data for measures such as Age, Blood Pressure (mmHg), and Cholesterol (mg/dL) allow for statistical calculations and distribution plots.\n",
    "Categorical data for Gender, Has Diabetes, Smoking Status, Chest Pain Type, and Treatment allow for frequency analyses, grouping, and comparisons between categories.\n",
    "\n",
    "##### Analysis Preparation:\n",
    "We can proceed directly with statistical analyses and visualizations using tools like pandas, seaborn, and matplotlib.\n",
    "For more advanced analyses, such as predictive modeling, it may be necessary to convert categorical variables to a numerical format (e.g., using one-hot encoding).\n",
    "\n",
    "##### Additional Explorations:\n",
    "Although there are no missing values, it is important to check the consistency and quality of the data. This may include checking for outliers or inconsistent values (e.g., extremely low or high ages)."
   ]
  },
  {
   "cell_type": "code",
   "execution_count": 36,
   "id": "398017fa",
   "metadata": {
    "scrolled": true
   },
   "outputs": [
    {
     "data": {
      "text/html": [
       "<div>\n",
       "<style scoped>\n",
       "    .dataframe tbody tr th:only-of-type {\n",
       "        vertical-align: middle;\n",
       "    }\n",
       "\n",
       "    .dataframe tbody tr th {\n",
       "        vertical-align: top;\n",
       "    }\n",
       "\n",
       "    .dataframe thead th {\n",
       "        text-align: right;\n",
       "    }\n",
       "</style>\n",
       "<table border=\"1\" class=\"dataframe\">\n",
       "  <thead>\n",
       "    <tr style=\"text-align: right;\">\n",
       "      <th></th>\n",
       "      <th>Age</th>\n",
       "      <th>Blood Pressure (mmHg)</th>\n",
       "      <th>Cholesterol (mg/dL)</th>\n",
       "    </tr>\n",
       "  </thead>\n",
       "  <tbody>\n",
       "    <tr>\n",
       "      <th>count</th>\n",
       "      <td>1000.000000</td>\n",
       "      <td>1000.000000</td>\n",
       "      <td>1000.000000</td>\n",
       "    </tr>\n",
       "    <tr>\n",
       "      <th>mean</th>\n",
       "      <td>60.338000</td>\n",
       "      <td>145.440000</td>\n",
       "      <td>223.789000</td>\n",
       "    </tr>\n",
       "    <tr>\n",
       "      <th>std</th>\n",
       "      <td>17.317496</td>\n",
       "      <td>31.756525</td>\n",
       "      <td>42.787817</td>\n",
       "    </tr>\n",
       "    <tr>\n",
       "      <th>min</th>\n",
       "      <td>30.000000</td>\n",
       "      <td>90.000000</td>\n",
       "      <td>150.000000</td>\n",
       "    </tr>\n",
       "    <tr>\n",
       "      <th>25%</th>\n",
       "      <td>45.000000</td>\n",
       "      <td>118.000000</td>\n",
       "      <td>185.000000</td>\n",
       "    </tr>\n",
       "    <tr>\n",
       "      <th>50%</th>\n",
       "      <td>60.500000</td>\n",
       "      <td>146.000000</td>\n",
       "      <td>225.500000</td>\n",
       "    </tr>\n",
       "    <tr>\n",
       "      <th>75%</th>\n",
       "      <td>76.000000</td>\n",
       "      <td>173.000000</td>\n",
       "      <td>259.000000</td>\n",
       "    </tr>\n",
       "    <tr>\n",
       "      <th>max</th>\n",
       "      <td>89.000000</td>\n",
       "      <td>199.000000</td>\n",
       "      <td>299.000000</td>\n",
       "    </tr>\n",
       "  </tbody>\n",
       "</table>\n",
       "</div>"
      ],
      "text/plain": [
       "               Age  Blood Pressure (mmHg)  Cholesterol (mg/dL)\n",
       "count  1000.000000            1000.000000          1000.000000\n",
       "mean     60.338000             145.440000           223.789000\n",
       "std      17.317496              31.756525            42.787817\n",
       "min      30.000000              90.000000           150.000000\n",
       "25%      45.000000             118.000000           185.000000\n",
       "50%      60.500000             146.000000           225.500000\n",
       "75%      76.000000             173.000000           259.000000\n",
       "max      89.000000             199.000000           299.000000"
      ]
     },
     "execution_count": 36,
     "metadata": {},
     "output_type": "execute_result"
    }
   ],
   "source": [
    "df.describe()"
   ]
  },
  {
   "cell_type": "markdown",
   "id": "12ddf4b7",
   "metadata": {},
   "source": [
    "#### Based on the output of df.describe() for the variables Age, Blood Pressure (mmHg), and Cholesterol (mg/dL), we can make several important observations that help understand the distribution and variation of the data. Here are some detailed analyses:\n",
    "\n",
    "##### Descriptive Data Analysis\n",
    "\n",
    "###### Age\n",
    "\n",
    "* Count: 1000 (indicating there are 1000 records, confirming the total number of entries in the dataset).\n",
    "* Mean: 60.34 years.\n",
    "This suggests that the average age of the patients is approximately 60 years, indicating that most patients are in an older age range.\n",
    "* Std (Standard Deviation): 17.32.\n",
    "A relatively high standard deviation suggests there is considerable variation in the ages of the patients.\n",
    "* Min (Minimum): 30 years.\n",
    "- The youngest patient is 30 years old.\n",
    "- 25% (First Quartile): 45 years.\n",
    "- 25% of the patients are 45 years old or younger.\n",
    "- 50% (Median): 60.5 years.\n",
    "The median, which is the central value, is very close to the mean, suggesting a relatively symmetrical distribution.\n",
    "- 75% (Third Quartile): 76 years.\n",
    "- 75% of the patients are 76 years old or younger.\n",
    "* Max (Maximum): 89 years.\n",
    "The oldest patient is 89 years old.\n",
    "Blood Pressure (mmHg)\n",
    "\n",
    "* Count: 1000.\n",
    "* Mean: 145.44 mmHg.\n",
    "The average blood pressure is approximately 145 mmHg, which may indicate a general tendency of elevated blood pressure among the patients.\n",
    "Std (Standard Deviation): 31.76.\n",
    "A moderate standard deviation suggests significant variation in blood pressure levels.\n",
    "* Min (Minimum): 90 mmHg.\n",
    "The minimum blood pressure value is 90 mmHg.\n",
    "- 25% (First Quartile): 118 mmHg.\n",
    "- 25% of the patients have a blood pressure of 118 mmHg or less.\n",
    "- 50% (Median): 146 mmHg.\n",
    "The median is 146 mmHg, indicating that half of the patients have blood pressure above this value.\n",
    "- 75% (Third Quartile): 173 mmHg.\n",
    "- 75% of the patients have a blood pressure of 173 mmHg or less.\n",
    "* Max (Maximum): 199 mmHg.\n",
    "The maximum blood pressure value is 199 mmHg.\n",
    "Cholesterol (mg/dL)\n",
    "\n",
    "* Count: 1000.\n",
    "* Mean: 223.79 mg/dL.\n",
    "The average cholesterol level is approximately 224 mg/dL, indicating generally high cholesterol levels among the patients.\n",
    "Std (Standard Deviation): 42.79.\n",
    "A relatively high standard deviation suggests considerable variation in cholesterol levels.\n",
    "* Min (Minimum): 150 mg/dL.\n",
    "The minimum cholesterol value is 150 mg/dL.\n",
    "- 25% (First Quartile): 185 mg/dL.\n",
    "- 25% of the patients have a cholesterol level of 185 mg/dL or less.\n",
    "- 50% (Median): 225.5 mg/dL.\n",
    "The median is 225.5 mg/dL, indicating that half of the patients have cholesterol levels above this value.\n",
    "- 75% (Third Quartile): 259 mg/dL.\n",
    "- 75% of the patients have a cholesterol level of 259 mg/dL or less.\n",
    "* Max (Maximum): 299 mg/dL.\n",
    "The maximum cholesterol value is 299 mg/dL."
   ]
  },
  {
   "cell_type": "markdown",
   "id": "d368f1d8",
   "metadata": {},
   "source": [
    "### Conclusions and Observations\n",
    "\n",
    "##### Age Range:\n",
    "Most patients are in the age range of 45 to 76 years, with the average age being 60 years. This suggests that heart attacks are more common in older adults, but there are also younger and older patients.\n",
    "##### Blood Pressure:\n",
    "The average blood pressure of 145.44 mmHg is relatively high, suggesting that many patients may have hypertension. The range of 90 to 199 mmHg shows a wide variation, indicating that blood pressure control is a significant issue among the patients.\n",
    "##### Cholesterol Levels:\n",
    "With an average of 223.79 mg/dL, cholesterol levels are elevated, which is a known risk factor for heart disease. The range of 150 to 299 mg/dL also indicates a large variation, suggesting that different patients may be at different stages of risk.\n",
    "##### Standard Deviation and Variation:\n",
    "The high standard deviation in all variables (age, blood pressure, cholesterol) indicates a heterogeneous population. This is important for analysis as it suggests that interventions may need to be personalized.\n",
    "\n",
    "### Final Summary:\n",
    "- The dataset showed a wide distribution in age and blood pressure.\n",
    "- T-tests revealed no significant gender-based differences in blood pressure.\n",
    "- Regression models had low explanatory power, suggesting nonlinear or complex relationships.\n",
    "- Classification models performed poorly (accuracy ~45–52%), indicating that the features may not be strong predictors of heart attack risk.\n",
    "- Further work could involve better feature engineering, re-evaluation of the target variable, and more complex modeling approaches."
   ]
  },
  {
   "cell_type": "code",
   "execution_count": 37,
   "id": "1451fef4",
   "metadata": {},
   "outputs": [
    {
     "name": "stdout",
     "output_type": "stream",
     "text": [
      "Gender: ['Male' 'Female']\n",
      "Age: [70 55 42 84 86 66 33 73 63 88 69 78 89 71 30 77 76 74 45 34 61 52 49 81\n",
      " 39 32 46 67 41 35 80 85 57 79 62 48 36 64 60 50 72 65 40 51 82 75 31 43\n",
      " 37 38 54 44 59 58 53 83 56 87 47 68]\n",
      "Blood Pressure (mmHg): [181 103  95 106 187 125 182 115 174 154 133 165 153 110 107 112  91 101\n",
      " 141 124 109 143 197 149 104 159 193 135 190 129 126 134 172 179 111 192\n",
      " 180 166 119 139 116 191 120 158 138 198 162 142 169 178 196 164 161 168\n",
      " 113 185 148 171 176 183 147  97 175 105 145  98 128 195 146 167 163 144\n",
      " 156 122 152 136 151 150 114 127 186 184 137  96 188 100 173 199 132 160\n",
      " 194  99  94 170 140 130 123 117 189 157 131 121 118 102  93 108  90  92\n",
      " 155]\n",
      "Cholesterol (mg/dL): [262 253 295 270 296 271 288 286 254 150 236 171 215 182 242 179 227 259\n",
      " 273 212 222 285 266 209 157 191 268 161 274 248 205 280 255 188 246 297\n",
      " 181 249 258 235 201 204 198 200 186 217 176 233 216 210 172 165 190 183\n",
      " 156 229 294 195 220 243 265 283 225 234 166 199 185 203 158 167 164 256\n",
      " 178 287 282 202 230 175 223 193 170 272 207 292 219 184 251 196 239 299\n",
      " 261 279 160 276 278 214 298 252 218 241 237 154 173 155 232 152 163 245\n",
      " 244 267 180 284 206 289 293 240 153 159 213 238 269 151 208 162 189 277\n",
      " 257 169 168 221 290 263 177 174 247 281 260 250 194 187 275 224 226 264\n",
      " 291 231 192 211 197]\n",
      "Has Diabetes: ['No' 'Yes']\n",
      "Smoking Status: ['Never' 'Current' 'Former']\n",
      "Chest Pain Type: ['Typical Angina' 'Atypical Angina' 'Non-anginal Pain' 'Asymptomatic']\n",
      "Treatment: ['Lifestyle Changes' 'Angioplasty' 'Coronary Artery Bypass Graft (CABG)'\n",
      " 'Medication']\n"
     ]
    }
   ],
   "source": [
    "for column in df.columns:\n",
    "    print(f\"{column}: {df[column].unique()}\")"
   ]
  },
  {
   "cell_type": "markdown",
   "id": "92eeab44",
   "metadata": {},
   "source": [
    "##### The command for column in df.columns: print(f\"{column}: {df[column].unique()}\") lists the unique values present in each column of the DataFrame. Let's analyze the results to understand what they reveal about the dataset:\n",
    "\n",
    "Analysis of Unique Values in Each Column\n",
    "\n",
    "###### Gender:\n",
    "\n",
    "###### Unique values: ['Male' 'Female']\n",
    "This indicates that the \"Gender\" column has two categories: Male and Female.\n",
    "Age:\n",
    "\n",
    "######Unique values:\n",
    "[70, 55, 42, 84, 86, 66, 33, 73, 63, 88, 69, 78, 89, 71, 30, 77, 76, 74, 45, 34, 61, 52, 49, 81, 39, 32, 46, 67, 41, 35, 80, 85, 57, 79, 62, 48, 36, 64, 60, 50, 72, 65, 40, 51, 82, 75, 31, 43, 37, 38, 54, 44, 59, 58, 53, 83, 56, 87, 47, 68]\n",
    "\n",
    "The \"Age\" column has values ranging from 30 to 89 years, showing a wide age range among the patients.\n",
    "\n",
    "###### Blood Pressure (mmHg):\n",
    "\n",
    "###### Unique values: \n",
    "[181, 103, 95, 106, 187, 125, 182, 115, 174, 154, 133, 165, 153, 110, 107, 112, 91, 101, 141, 124, 109, 143, 197, 149, 104, 159, 193, 135, 190, 129, 126, 134, 172, 179, 111, 192, 180, 166, 119, 139, 116, 191, 120, 158, 138, 198, 162, 142, 169, 178, 196, 164, 161, 168, 113, 185, 148, 171, 176, 183, 147, 97, 175, 105, 145, 98, 128, 195, 146, 167, 163, 144, 156, 122, 152, 136, 151, 150, 114, 127, 186, 184, 137, 96, 188, 100, 173, 199, 132, 160, 194, 99, 94, 170, 140, 130, 123, 117, 189, 157, 131, 121, 118, 102, 93, 108, 90, 92, 155]\n",
    "\n",
    "The \"Blood Pressure (mmHg)\" column has a wide range of values, from 90 mmHg to 199 mmHg.\n",
    "\n",
    "###### Cholesterol (mg/dL):\n",
    "\n",
    "###### Unique values:\n",
    "[262, 253, 295, 270, 296, 271, 288, 286, 254, 150, 236, 171, 215, 182, 242, 179, 227, 259, 273, 212, 222, 285, 266, 209, 157, 191, 268, 161, 274, 248, 205, 280, 255, 188, 246, 297, 181, 249, 258, 235, 201, 204, 198, 200, 186, 217, 176, 233, 216, 210, 172, 165, 190, 183, 156, 229, 294, 195, 220, 243, 265, 283, 225, 234, 166, 199, 185, 203, 158, 167, 164, 256, 178, 287, 282, 202, 230, 175, 223, 193, 170, 272, 207, 292, 219, 184, 251, 196, 239, 299, 261, 279, 160, 276, 278, 214, 298, 252, 218, 241, 237, 154, 173, 155, 232, 152, 163, 245, 244, 267, 180, 284, 206, 289, 293, 240, 153, 159, 213, 238, 269, 151, 208, 162, 189, 277, 257, 169, 168, 221, 290, 263, 177, 174, 247, 281, 260, 250, 194, 187, 275, 224, 226, 264, 291, 231, 192, 211, 197]\n",
    "\n",
    "The \"Cholesterol (mg/dL)\" column has a wide range of values, from 150 mg/dL to 299 mg/dL.\n",
    "\n",
    "###### Has Diabetes:\n",
    "\n",
    "###### Unique values:\n",
    "['No' 'Yes']\n",
    "The \"Has Diabetes\" column indicates whether the patient has diabetes, with values \"Yes\" or \"No\".\n",
    "\n",
    "###### Smoking Status:\n",
    "\n",
    "###### Unique values: \n",
    "['Never' 'Current' 'Former']\n",
    "The \"Smoking Status\" column categorizes patients into three groups: Never Smoked (Never), Current Smoker (Current), and Former Smoker (Former).\n",
    "\n",
    "###### Chest Pain Type:\n",
    "\n",
    "###### Unique values:\n",
    "['Typical Angina' 'Atypical Angina' 'Non-anginal Pain' 'Asymptomatic']\n",
    "The \"Chest Pain Type\" column classifies the types of chest pain into four categories: Typical Angina, Atypical Angina, Non-anginal Pain, and Asymptomatic.\n",
    "\n",
    "###### Treatment:\n",
    "\n",
    "###### Unique values:\n",
    "['Lifestyle Changes' 'Angioplasty' 'Coronary Artery Bypass Graft (CABG)' 'Medication']\n",
    "The \"Treatment\" column lists the types of treatment received by the patients: Lifestyle Changes, Angioplasty, Coronary Artery Bypass Graft (CABG), and Medication."
   ]
  },
  {
   "cell_type": "markdown",
   "id": "259f0b28",
   "metadata": {},
   "source": [
    "#### Conclusions\n",
    "\n",
    "##### Categorical Distribution:\n",
    "The categorical columns (Gender, Has Diabetes, Smoking Status, Chest Pain Type, Treatment) have a limited number of unique values, making frequency analysis and group comparisons straightforward.\n",
    "##### Numerical Variety:\n",
    "The numerical columns (Age, Blood Pressure (mmHg), Cholesterol (mg/dL)) exhibit a wide range of values, which may indicate different levels of risk and health conditions among the patients.\n",
    "##### Clean Data:\n",
    "The fact that all columns have clearly defined unique values and no missing values suggests that the dataset is relatively clean and ready for analysis.\n",
    "\n",
    "### Final Summary:\n",
    "- The dataset showed a wide distribution in age and blood pressure.\n",
    "- T-tests revealed no significant gender-based differences in blood pressure.\n",
    "- Regression models had low explanatory power, suggesting nonlinear or complex relationships.\n",
    "- Classification models performed poorly (accuracy ~45–52%), indicating that the features may not be strong predictors of heart attack risk.\n",
    "- Further work could involve better feature engineering, re-evaluation of the target variable, and more complex modeling approaches."
   ]
  },
  {
   "cell_type": "markdown",
   "id": "75891152",
   "metadata": {},
   "source": [
    "# Histograms for Numerical Variables\n",
    "\n",
    "The provided code generates histograms for three numerical variables: Age, Blood Pressure (mmHg), and Cholesterol (mg/dL). Here’s what each histogram can show and the insights they can provide:\n",
    "\n",
    "Insights:\n",
    "\n",
    "### Age Range: \n",
    "\n",
    "The histogram will show the distribution of ages within the dataset, helping you identify the most common age ranges.\n",
    "##### Central Tendency: \n",
    "You can see where the majority of the patients fall in terms of age, indicating the central tendency (e.g., the mean or median age).\n",
    "##### Skewness:\n",
    "If the histogram is skewed to the left or right, it can indicate if the dataset has a higher frequency of younger or older patients.\n",
    "##### Outliers: \n",
    "It can help in identifying outliers or age groups with fewer patients.\n",
    "\n",
    "### Blood Pressure Range: \n",
    "\n",
    "The histogram will illustrate the range of blood pressure values among patients, showing the spread and variability.\n",
    "##### Hypertension Prevalence: \n",
    "By observing the concentration of higher blood pressure values, you can infer the prevalence of hypertension within the dataset.\n",
    "##### Central Tendency and Spread: \n",
    "The peak of the histogram indicates the most common blood pressure range, while the spread shows the variability.\n",
    "##### Outliers: \n",
    "Identifies any unusual or extreme values that might need further investigation.\n",
    "\n",
    "### Cholesterol Range: \n",
    "\n",
    "Displays the range and distribution of cholesterol levels in the dataset.\n",
    "##### Hypercholesterolemia Prevalence: \n",
    "Indicates how common high cholesterol levels are among the patients.\n",
    "##### Central Tendency and Spread: \n",
    "Shows the most frequent cholesterol values and the overall spread of the data.\n",
    "##### Outliers: \n",
    "Identifies extreme values that may be of interest for further analysis.\n",
    "\n",
    "\n",
    "\n",
    "### General Benefits of Histogram Analysis\n",
    "\n",
    "###### Visual Understanding: \n",
    "Histograms provide a clear visual representation of data distribution, making it easier to understand the dataset's characteristics at a glance.\n",
    "###### Identification of Data Patterns: \n",
    "Helps in identifying patterns such as normal distribution, skewness, or the presence of multiple peaks (bimodal distribution).\n",
    "###### Detecting Data Quality Issues: \n",
    "Outliers or unusual distributions can signal data quality issues or special cases that require attention.\n",
    "###### Basis for Further Analysis: \n",
    "Insights from histograms can guide further statistical analysis or data preprocessing steps (e.g., handling outliers or normalizing data).\n",
    "By interpreting these histograms, you can gain a deeper understanding of the patient demographics and health indicators within your dataset, which is crucial for effective data analysis and decision-making."
   ]
  },
  {
   "cell_type": "code",
   "execution_count": 38,
   "id": "f5087152",
   "metadata": {},
   "outputs": [
    {
     "data": {
      "image/png": "[encoded data removed]",
      "text/plain": [
       "<Figure size 1200x600 with 1 Axes>"
      ]
     },
     "metadata": {},
     "output_type": "display_data"
    },
    {
     "data": {
      "image/png": "[encoded data removed]",
      "text/plain": [
       "<Figure size 1200x600 with 1 Axes>"
      ]
     },
     "metadata": {},
     "output_type": "display_data"
    },
    {
     "data": {
      "image/png": "[encoded data removed]",
      "text/plain": [
       "<Figure size 1200x600 with 1 Axes>"
      ]
     },
     "metadata": {},
     "output_type": "display_data"
    }
   ],
   "source": [
    "plt.figure(figsize=(12, 6))\n",
    "df['Age'].hist(bins=20)\n",
    "plt.title('Age Distribution')\n",
    "plt.xlabel('Age')\n",
    "plt.ylabel('Frequency')\n",
    "plt.show()\n",
    "\n",
    "plt.figure(figsize=(12, 6))\n",
    "df['Blood Pressure (mmHg)'].hist(bins=20)\n",
    "plt.title('Blood Pressure Distribution')\n",
    "plt.xlabel('Blood Pressure (mmHg)')\n",
    "plt.ylabel('Frequency')\n",
    "plt.show()\n",
    "\n",
    "plt.figure(figsize=(12, 6))\n",
    "df['Cholesterol (mg/dL)'].hist(bins=20)\n",
    "plt.title('Cholesterol Distribution')\n",
    "plt.xlabel('Cholesterol (mg/dL)')\n",
    "plt.ylabel('Frequency')\n",
    "plt.show()"
   ]
  },
  {
   "cell_type": "markdown",
   "id": "69c5c3f4",
   "metadata": {},
   "source": [
    "## Analysis of the Age Distribution Histogram\n",
    "\n",
    "The provided histogram shows the age distribution of patients in the dataset. Let's analyze the insights that can be drawn from this chart.\n",
    "\n",
    "Observations\n",
    "Age Range:\n",
    "\n",
    "The histogram covers an age range from 30 to 90 years.\n",
    "The patients' ages are distributed relatively evenly throughout this interval.\n",
    "Peaks and Frequency:\n",
    "\n",
    "There are peaks in certain age ranges:\n",
    "* Between 40 and 45 years.\n",
    "* Between 50 and 55 years.\n",
    "* Between 65 and 70 years.\n",
    "* Between 75 and 80 years.\n",
    "\n",
    "These peaks indicate that these age ranges have a higher frequency of patients.\n",
    "Central Tendency:\n",
    "\n",
    "The distribution appears to be quite uniform, without a clear central tendency, indicating that the age range of the patients is quite diverse.\n",
    "Skewness:\n",
    "\n",
    "The histogram does not show any obvious skewness, suggesting that the age distribution of the patients is relatively symmetrical across the age ranges.\n",
    "Outliers:\n",
    "\n",
    "There is no clear evidence of extreme outliers in the histogram. The distribution seems consistent within the 30 to 90 years interval.\n",
    "Insights\n",
    "Age Diversity:\n",
    "\n",
    "The uniform distribution suggests that patients of various ages, from 30 to 90 years, are prone to heart attacks, without a significant concentration in any specific age range.\n",
    "Risk Groups:\n",
    "\n",
    "The age ranges with peaks (40-45, 50-55, 65-70, 75-80) may indicate slightly higher risk groups that might warrant special attention in subsequent analyses.\n",
    "Intervention Planning:\n",
    "\n",
    "Information about the age distribution can help in segmenting patients for specific interventions, prevention programs, and awareness campaigns targeted at the most common age groups.\n",
    "Research Implications:\n",
    "\n",
    "The broad age distribution suggests that future research should consider a comprehensive approach that includes all age ranges to better understand the risk factors and characteristics of patients at different ages.\n",
    "\n",
    "#### Conclusion\n",
    "\n",
    "The age distribution histogram provides a clear view of how patients' ages are distributed within the dataset. The analysis indicates a uniform distribution with some peaks in certain age ranges. These insights are valuable for directing research, interventions, and heart attack prevention programs effectively.\n",
    "\n",
    "### Final Summary:\n",
    "- The dataset showed a wide distribution in age and blood pressure.\n",
    "- T-tests revealed no significant gender-based differences in blood pressure.\n",
    "- Regression models had low explanatory power, suggesting nonlinear or complex relationships.\n",
    "- Classification models performed poorly (accuracy ~45–52%), indicating that the features may not be strong predictors of heart attack risk.\n",
    "- Further work could involve better feature engineering, re-evaluation of the target variable, and more complex modeling approaches."
   ]
  },
  {
   "cell_type": "markdown",
   "id": "8d4703ee",
   "metadata": {},
   "source": [
    "## Analysis of the Blood Pressure Distribution Histogram\n",
    "\n",
    "The provided histogram shows the distribution of blood pressure levels among patients in the dataset. Let's analyze the insights that can be drawn from this chart.\n",
    "\n",
    "Observations\n",
    "Blood Pressure Range:\n",
    "\n",
    "The histogram covers a blood pressure range from 90 mmHg to 200 mmHg.\n",
    "There is a wide variation in blood pressure values among the patients.\n",
    "Peaks and Frequency:\n",
    "\n",
    "There are peaks in certain blood pressure ranges:\n",
    "\n",
    "* Around 100 mmHg.\n",
    "* Around 110 mmHg.\n",
    "* Around 140 mmHg.\n",
    "* Around 160 mmHg.\n",
    "* Around 200 mmHg.\n",
    "\n",
    "These peaks indicate that these blood pressure ranges have a higher frequency of patients.\n",
    "Central Tendency:\n",
    "\n",
    "The distribution of blood pressure does not seem to have a clear central tendency, indicating that the values are evenly spread across the range.\n",
    "Skewness:\n",
    "\n",
    "The histogram shows a relatively symmetrical distribution, with no clear bias towards higher or lower values.\n",
    "Outliers:\n",
    "\n",
    "There is no clear evidence of extreme outliers in the histogram. The distribution appears consistent within the 90 to 200 mmHg range.\n",
    "Insights\n",
    "Diversity in Blood Pressure:\n",
    "\n",
    "The wide distribution suggests that patients have a variety of blood pressure levels, from normal to elevated values, indicating a diverse population in terms of cardiovascular health.\n",
    "Prevalence of Hypertension:\n",
    "\n",
    "The peaks around 140 mmHg and 160 mmHg, which are considered high blood pressure values, suggest that many patients may be suffering from hypertension. This is a significant risk factor for heart diseases.\n",
    "Risk Groups:\n",
    "\n",
    "The blood pressure ranges with frequency peaks may indicate risk groups that require special attention for blood pressure control and management.\n",
    "Intervention Planning:\n",
    "\n",
    "Information about the blood pressure distribution can help in segmenting patients for specific interventions and blood pressure monitoring programs.\n",
    "Research Implications:\n",
    "\n",
    "The uniform distribution and the presence of peaks in various ranges suggest that future research should consider addressing different subgroups of patients to better understand the risk factors associated with hypertension and blood pressure control.\n",
    "\n",
    "##### Conclusion\n",
    "The blood pressure distribution histogram provides a clear view of how blood pressure levels are distributed within the dataset. The analysis indicates a varied distribution with peaks in several ranges, suggesting the presence of hypertension in many patients. These insights are valuable for directing research, interventions, and heart disease prevention programs effectively.\n",
    "\n",
    "\n",
    "\n",
    "\n",
    "\n",
    "\n",
    "\n",
    "\n",
    "### Final Summary:\n",
    "- The dataset showed a wide distribution in age and blood pressure.\n",
    "- T-tests revealed no significant gender-based differences in blood pressure.\n",
    "- Regression models had low explanatory power, suggesting nonlinear or complex relationships.\n",
    "- Classification models performed poorly (accuracy ~45–52%), indicating that the features may not be strong predictors of heart attack risk.\n",
    "- Further work could involve better feature engineering, re-evaluation of the target variable, and more complex modeling approaches."
   ]
  },
  {
   "cell_type": "markdown",
   "id": "903a4b1e",
   "metadata": {},
   "source": [
    "### Check for Missing Values:"
   ]
  },
  {
   "cell_type": "code",
   "execution_count": 39,
   "id": "d4444080",
   "metadata": {},
   "outputs": [
    {
     "name": "stdout",
     "output_type": "stream",
     "text": [
      "Missing Values per Column:\n",
      "Gender                   0\n",
      "Age                      0\n",
      "Blood Pressure (mmHg)    0\n",
      "Cholesterol (mg/dL)      0\n",
      "Has Diabetes             0\n",
      "Smoking Status           0\n",
      "Chest Pain Type          0\n",
      "Treatment                0\n",
      "dtype: int64\n"
     ]
    }
   ],
   "source": [
    "print(\"Missing Values per Column:\")\n",
    "print(df.isnull().sum())\n"
   ]
  },
  {
   "cell_type": "markdown",
   "id": "9322dfaa",
   "metadata": {},
   "source": [
    "### Data Quality:\n",
    "\n",
    "The absence of null values is a positive sign of data quality. This suggests that the dataset is complete and that each record contains all the necessary information for analysis.\n",
    "\n",
    "#### Simplicity in Analysis:\n",
    "Since there are no missing values, it will not be necessary to perform data cleaning steps to fill in or remove incomplete records. This simplifies subsequent analysis, saving time and resources.\n",
    "\n",
    "#### Data Consistency:\n",
    "Data consistency is maintained as there is no need to make assumptions or imputations about missing values. This ensures that the integrity of the data is preserved during analysis.\n",
    "\n",
    "#### Preparation for Modeling:\n",
    "Being free of missing values is advantageous when preparing data for statistical modeling or machine learning. Machine learning models generally require complete datasets to train effectively.\n",
    "\n",
    "#### Confidence in Statistical Analysis:\n",
    "The absence of null values allows statistical analysis, such as calculating mean, median, standard deviation, correlation, and more, to be more reliable and accurate.\n",
    "\n",
    "### Conclusion:\n",
    "The result indicating the absence of null values in all columns of the dataset is highly beneficial for data analysis. It ensures that the dataset is in a high-quality state, ready for detailed statistical analysis and predictive modeling without the need for additional treatment of missing values. This result increases confidence in the accuracy and integrity of subsequent analyses.\n",
    "\n",
    "### Final Summary:\n",
    "- The dataset showed a wide distribution in age and blood pressure.\n",
    "- T-tests revealed no significant gender-based differences in blood pressure.\n",
    "- Regression models had low explanatory power, suggesting nonlinear or complex relationships.\n",
    "- Classification models performed poorly (accuracy ~45–52%), indicating that the features may not be strong predictors of heart attack risk.\n",
    "- Further work could involve better feature engineering, re-evaluation of the target variable, and more complex modeling approaches."
   ]
  },
  {
   "cell_type": "markdown",
   "id": "0c5467b2",
   "metadata": {},
   "source": [
    "# 1. Additional Exploratory Analysis\n",
    "\n",
    "\n",
    "\n",
    "\n",
    "\n",
    "\n",
    "\n"
   ]
  },
  {
   "cell_type": "markdown",
   "id": "fe0574f1",
   "metadata": {},
   "source": [
    "#### 1. Additional Exploratory Analysis\n",
    "Correlation Analysis:\n",
    "\n",
    "Calculate and visualize the correlation matrix between the numerical variables (Age, Blood Pressure (mmHg), Cholesterol (mg/dL)). This will help identify potential relationships between the variables."
   ]
  },
  {
   "cell_type": "code",
   "execution_count": 40,
   "id": "e1dda93d",
   "metadata": {},
   "outputs": [
    {
     "data": {
      "image/png": "[encoded data removed]",
      "text/plain": [
       "<Figure size 1000x800 with 2 Axes>"
      ]
     },
     "metadata": {},
     "output_type": "display_data"
    }
   ],
   "source": [
    "\n",
    "corr_matrix = df.corr()\n",
    "\n",
    "# Plot the correlation matrix\n",
    "plt.figure(figsize=(10, 8))\n",
    "sns.heatmap(corr_matrix, annot=True, cmap='coolwarm')\n",
    "plt.title('Correlation Matrix')\n",
    "plt.show()"
   ]
  },
  {
   "cell_type": "markdown",
   "id": "c04224e9",
   "metadata": {},
   "source": [
    "#### 2. Categorical Group Analysis\n",
    "Compare numerical variables across different categorical groups, such as Gender, Has Diabetes, Smoking Status, Chest Pain Type, and Treatment. Use boxplots for this analysis."
   ]
  },
  {
   "cell_type": "code",
   "execution_count": 41,
   "id": "81a7415d",
   "metadata": {},
   "outputs": [
    {
     "data": {
      "image/png": "[encoded data removed]",
      "text/plain": [
       "<Figure size 1200x600 with 1 Axes>"
      ]
     },
     "metadata": {},
     "output_type": "display_data"
    },
    {
     "data": {
      "image/png": "[encoded data removed]",
      "text/plain": [
       "<Figure size 1200x600 with 1 Axes>"
      ]
     },
     "metadata": {},
     "output_type": "display_data"
    }
   ],
   "source": [
    "# Boxplot for comparison between genders\n",
    "plt.figure(figsize=(12, 6))\n",
    "sns.boxplot(x='Gender', y='Blood Pressure (mmHg)', data=df)\n",
    "plt.title('Blood Pressure Distribution by Gender')\n",
    "plt.show()\n",
    "\n",
    "# Boxplot for comparison between patients with and without diabetes\n",
    "plt.figure(figsize=(12, 6))\n",
    "sns.boxplot(x='Has Diabetes', y='Cholesterol (mg/dL)', data=df)\n",
    "plt.title('Cholesterol Distribution by Diabetes Status')\n",
    "plt.show()\n"
   ]
  },
  {
   "cell_type": "markdown",
   "id": "ea6607f4",
   "metadata": {},
   "source": [
    "# 2. Statistical Analysis\n",
    "\n",
    "#### 1.Statistical Tests:\n",
    "\n",
    "Perform statistical tests to compare groups, such as the t-test for two independent samples or ANOVA for more than two groups."
   ]
  },
  {
   "cell_type": "code",
   "execution_count": 42,
   "id": "25417da4",
   "metadata": {},
   "outputs": [
    {
     "name": "stdout",
     "output_type": "stream",
     "text": [
      "T-test: statistic=0.30742153332044314, p-value=0.7585866789971364\n"
     ]
    }
   ],
   "source": [
    "# T-test for blood pressure between males and females\n",
    "\n",
    "male_bp = df[df['Gender'] == 'Male']['Blood Pressure (mmHg)']\n",
    "female_bp = df[df['Gender'] == 'Female']['Blood Pressure (mmHg)']\n",
    "t_stat, p_val = ttest_ind(male_bp, female_bp)\n",
    "print(f'T-test: statistic={t_stat}, p-value={p_val}')\n"
   ]
  },
  {
   "cell_type": "markdown",
   "id": "d03a2d2f",
   "metadata": {},
   "source": [
    "\n",
    "#### 2.Linear Regression\n",
    "Perform a linear regression to investigate the relationship between dependent and independent variables."
   ]
  },
  {
   "cell_type": "code",
   "execution_count": 43,
   "id": "3cd3a509",
   "metadata": {},
   "outputs": [
    {
     "name": "stdout",
     "output_type": "stream",
     "text": [
      "                              OLS Regression Results                             \n",
      "=================================================================================\n",
      "Dep. Variable:     Blood Pressure (mmHg)   R-squared:                       0.002\n",
      "Model:                               OLS   Adj. R-squared:                 -0.000\n",
      "Method:                    Least Squares   F-statistic:                    0.9866\n",
      "Date:                   Fri, 09 Aug 2024   Prob (F-statistic):              0.373\n",
      "Time:                           20:11:54   Log-Likelihood:                -4875.5\n",
      "No. Observations:                   1000   AIC:                             9757.\n",
      "Df Residuals:                        997   BIC:                             9772.\n",
      "Df Model:                              2                                         \n",
      "Covariance Type:               nonrobust                                         \n",
      "=======================================================================================\n",
      "                          coef    std err          t      P>|t|      [0.025      0.975]\n",
      "---------------------------------------------------------------------------------------\n",
      "const                 138.4521      6.389     21.671      0.000     125.915     150.989\n",
      "Age                    -0.0062      0.058     -0.107      0.915      -0.120       0.108\n",
      "Cholesterol (mg/dL)     0.0329      0.023      1.401      0.162      -0.013       0.079\n",
      "==============================================================================\n",
      "Omnibus:                      600.920   Durbin-Watson:                   2.000\n",
      "Prob(Omnibus):                  0.000   Jarque-Bera (JB):               57.393\n",
      "Skew:                          -0.008   Prob(JB):                     3.45e-13\n",
      "Kurtosis:                       1.826   Cond. No.                     1.50e+03\n",
      "==============================================================================\n",
      "\n",
      "Notes:\n",
      "[1] Standard Errors assume that the covariance matrix of the errors is correctly specified.\n",
      "[2] The condition number is large, 1.5e+03. This might indicate that there are\n",
      "strong multicollinearity or other numerical problems.\n"
     ]
    }
   ],
   "source": [
    "# Linear regression: Blood Pressure as the dependent variable\n",
    "\n",
    "X = df[['Age', 'Cholesterol (mg/dL)']]\n",
    "y = df['Blood Pressure (mmHg)']\n",
    "X = sm.add_constant(X)\n",
    "model = sm.OLS(y, X).fit()\n",
    "print(model.summary())"
   ]
  },
  {
   "cell_type": "markdown",
   "id": "fc2ab8c3",
   "metadata": {},
   "source": [
    "# 3. Preparation for Predictive Modeling\n",
    "\n",
    "#### 1. Define the categorical and numerical columns\n",
    "\n"
   ]
  },
  {
   "cell_type": "code",
   "execution_count": 48,
   "id": "d795b155",
   "metadata": {},
   "outputs": [],
   "source": [
    "\n",
    "categorical_features = ['Gender', 'Smoking Status', 'Chest Pain Type', 'Treatment']\n",
    "numeric_features = ['Age', 'Blood Pressure (mmHg)', 'Cholesterol (mg/dL)']"
   ]
  },
  {
   "cell_type": "markdown",
   "id": "7c000615",
   "metadata": {},
   "source": [
    "#### 2. Create a preprocessing pipeline to handle both types of features\n",
    "\n"
   ]
  },
  {
   "cell_type": "code",
   "execution_count": 49,
   "id": "cb43e644",
   "metadata": {
    "scrolled": true
   },
   "outputs": [],
   "source": [
    "\n",
    "preprocessor = ColumnTransformer(\n",
    "    transformers=[\n",
    "        ('num', StandardScaler(), numeric_features),  # Standardize the numerical variables\n",
    "        ('cat', OneHotEncoder(drop='first'), categorical_features)])  # Apply One-Hot Encoding to the categorical variables\n",
    "\n"
   ]
  },
  {
   "cell_type": "markdown",
   "id": "5f1a273f",
   "metadata": {},
   "source": [
    "#### 3. Split the data into training and testing sets\n",
    "\n"
   ]
  },
  {
   "cell_type": "code",
   "execution_count": 50,
   "id": "b33efb6a",
   "metadata": {},
   "outputs": [],
   "source": [
    "\n",
    "X = df.drop('Has Diabetes', axis=1)  # Replace 'Has Diabetes' with the correct target variable\n",
    "y = df['Has Diabetes']\n",
    "X_train, X_test, y_train, y_test = train_test_split(X, y, test_size=0.2, random_state=42)\n"
   ]
  },
  {
   "cell_type": "markdown",
   "id": "5fed3d9e",
   "metadata": {},
   "source": [
    "#### 4. Apply the preprocessor to the training and testing data"
   ]
  },
  {
   "cell_type": "code",
   "execution_count": 51,
   "id": "88e45cfb",
   "metadata": {},
   "outputs": [],
   "source": [
    "X_train_processed = preprocessor.fit_transform(X_train)\n",
    "X_test_processed = preprocessor.transform(X_test)\n"
   ]
  },
  {
   "cell_type": "markdown",
   "id": "e9717433",
   "metadata": {},
   "source": [
    "#### 5. Train the model - Logistic Regression"
   ]
  },
  {
   "cell_type": "code",
   "execution_count": 52,
   "id": "4be39c36",
   "metadata": {},
   "outputs": [],
   "source": [
    "model = LogisticRegression()\n",
    "model.fit(X_train_processed, y_train)\n",
    "y_pred = model.predict(X_test_processed)\n"
   ]
  },
  {
   "cell_type": "markdown",
   "id": "f7f210a7",
   "metadata": {},
   "source": [
    "#### 6. Evaluate the model"
   ]
  },
  {
   "cell_type": "code",
   "execution_count": 53,
   "id": "31d9b6e2",
   "metadata": {},
   "outputs": [
    {
     "name": "stdout",
     "output_type": "stream",
     "text": [
      "Accuracy: 0.455\n",
      "              precision    recall  f1-score   support\n",
      "\n",
      "          No       0.40      0.36      0.38        92\n",
      "         Yes       0.50      0.54      0.52       108\n",
      "\n",
      "    accuracy                           0.46       200\n",
      "   macro avg       0.45      0.45      0.45       200\n",
      "weighted avg       0.45      0.46      0.45       200\n",
      "\n"
     ]
    }
   ],
   "source": [
    "print(f'Accuracy: {accuracy_score(y_test, y_pred)}')\n",
    "print(classification_report(y_test, y_pred))"
   ]
  },
  {
   "cell_type": "markdown",
   "id": "3cd2651f",
   "metadata": {},
   "source": [
    "# 1. Result Analysis\n",
    "\n",
    "#### Interpret the Model Output:\n",
    "\n",
    "* Review the classification report that includes metrics like precision, recall, and F1-score. Assess the model's performance for each class.\n",
    "* Consider the metrics to determine if the model is performing well or if there are areas for improvement.\n",
    "\n",
    "#### Confusion Matrix:\n",
    "\n",
    "* Generate and visualize a confusion matrix to better understand where the model is making mistakes."
   ]
  },
  {
   "cell_type": "code",
   "execution_count": 54,
   "id": "91794926",
   "metadata": {},
   "outputs": [],
   "source": [
    "from sklearn.metrics import confusion_matrix, ConfusionMatrixDisplay"
   ]
  },
  {
   "cell_type": "markdown",
   "id": "030711b3",
   "metadata": {},
   "source": [
    "##### Define the parameter grid"
   ]
  },
  {
   "cell_type": "code",
   "execution_count": 55,
   "id": "eb86425d",
   "metadata": {
    "scrolled": true
   },
   "outputs": [
    {
     "data": {
      "image/png": "[encoded data removed]",
      "text/plain": [
       "<Figure size 640x480 with 2 Axes>"
      ]
     },
     "metadata": {},
     "output_type": "display_data"
    }
   ],
   "source": [
    "cm = confusion_matrix(y_test, y_pred)\n",
    "disp = ConfusionMatrixDisplay(confusion_matrix=cm)\n",
    "disp.plot()\n",
    "plt.show()"
   ]
  },
  {
   "cell_type": "markdown",
   "id": "f2c869f2",
   "metadata": {},
   "source": [
    "# 2. Model Improvement\n",
    "\n",
    "#### Hyperparameter Tuning:\n",
    "\n",
    "* Use GridSearchCV or RandomizedSearchCV to find the best hyperparameters for your Logistic Regression model, or experiment with other machine learning algorithms."
   ]
  },
  {
   "cell_type": "code",
   "execution_count": 58,
   "id": "5fb5d59c",
   "metadata": {},
   "outputs": [],
   "source": [
    "from sklearn.model_selection import GridSearchCV"
   ]
  },
  {
   "cell_type": "code",
   "execution_count": 59,
   "id": "6a8591c4",
   "metadata": {},
   "outputs": [
    {
     "name": "stdout",
     "output_type": "stream",
     "text": [
      "Best Parameters: {'C': 1, 'solver': 'liblinear'}\n"
     ]
    }
   ],
   "source": [
    "param_grid = {'C': [0.1, 1, 10, 100], 'solver': ['liblinear', 'lbfgs']}\n",
    "grid = GridSearchCV(LogisticRegression(), param_grid, cv=5)\n",
    "grid.fit(X_train_processed, y_train)\n",
    "\n",
    "print(f'Best Parameters: {grid.best_params_}')"
   ]
  },
  {
   "cell_type": "markdown",
   "id": "9788de24",
   "metadata": {},
   "source": [
    "#### Try Other Models:\n",
    " \n",
    " * Experiment with other algorithms like Random Forest, SVM, or Gradient Boosting to see if they offer better performance."
   ]
  },
  {
   "cell_type": "code",
   "execution_count": 60,
   "id": "924289d1",
   "metadata": {},
   "outputs": [],
   "source": [
    "from sklearn.ensemble import RandomForestClassifier"
   ]
  },
  {
   "cell_type": "markdown",
   "id": "2956f9a5",
   "metadata": {},
   "source": [
    "##### Random Forest Classifier"
   ]
  },
  {
   "cell_type": "code",
   "execution_count": 61,
   "id": "4cfc6c8e",
   "metadata": {},
   "outputs": [
    {
     "name": "stdout",
     "output_type": "stream",
     "text": [
      "Random Forest Accuracy: 0.52\n"
     ]
    }
   ],
   "source": [
    "rf_model = RandomForestClassifier()\n",
    "rf_model.fit(X_train_processed, y_train)\n",
    "y_pred_rf = rf_model.predict(X_test_processed)\n",
    "print(f'Random Forest Accuracy: {accuracy_score(y_test, y_pred_rf)}')"
   ]
  },
  {
   "cell_type": "markdown",
   "id": "0d29d456",
   "metadata": {},
   "source": [
    "# 3. Cross-Validation\n",
    "\n",
    "#### Cross-Validation:\n",
    "* Perform cross-validation to ensure the model is not overfitting and that it generalizes well to new data."
   ]
  },
  {
   "cell_type": "code",
   "execution_count": 67,
   "id": "ae082915",
   "metadata": {},
   "outputs": [],
   "source": [
    "from sklearn.model_selection import cross_val_score"
   ]
  },
  {
   "cell_type": "code",
   "execution_count": 68,
   "id": "b4bb0aa9",
   "metadata": {},
   "outputs": [
    {
     "name": "stdout",
     "output_type": "stream",
     "text": [
      "Cross-Validation - Average Accuracy: 0.49749999999999994\n"
     ]
    }
   ],
   "source": [
    "\n",
    "scores = cross_val_score(model, X_train_processed, y_train, cv=5)\n",
    "print(f'Cross-Validation - Average Accuracy: {scores.mean()}')"
   ]
  },
  {
   "cell_type": "markdown",
   "id": "c0658706",
   "metadata": {},
   "source": [
    "# 4. Interpretation and Reporting\n",
    "\n",
    "#### Feature Importance:\n",
    "\n",
    "* Identify which features contributed the most to the model's performance. This can be done by looking at the coefficients in Logistic Regression or feature importance in a Random Forest."
   ]
  },
  {
   "cell_type": "code",
   "execution_count": 69,
   "id": "5451564a",
   "metadata": {
    "scrolled": true
   },
   "outputs": [
    {
     "name": "stdout",
     "output_type": "stream",
     "text": [
      "Feature: Age, Score: 0.03808983455352359\n",
      "Feature: Blood Pressure (mmHg), Score: 0.0014799672353108188\n",
      "Feature: Cholesterol (mg/dL), Score: -0.03148500579941774\n",
      "Feature: Gender_Male, Score: -0.16566712525500438\n",
      "Feature: Smoking Status_Former, Score: 0.28129213205374975\n",
      "Feature: Smoking Status_Never, Score: 0.023969526265724732\n",
      "Feature: Chest Pain Type_Atypical Angina, Score: -0.13049229773434637\n",
      "Feature: Chest Pain Type_Non-anginal Pain, Score: -0.0384542466731484\n",
      "Feature: Chest Pain Type_Typical Angina, Score: -0.1977851043891577\n",
      "Feature: Treatment_Coronary Artery Bypass Graft (CABG), Score: 0.028040416269597315\n",
      "Feature: Treatment_Lifestyle Changes, Score: 0.04441065490214266\n",
      "Feature: Treatment_Medication, Score: 0.15458195695598972\n",
      "Accuracy: 0.455\n",
      "              precision    recall  f1-score   support\n",
      "\n",
      "          No       0.40      0.36      0.38        92\n",
      "         Yes       0.50      0.54      0.52       108\n",
      "\n",
      "    accuracy                           0.46       200\n",
      "   macro avg       0.45      0.45      0.45       200\n",
      "weighted avg       0.45      0.46      0.45       200\n",
      "\n"
     ]
    }
   ],
   "source": [
    "# 4. Apply the preprocessor to the training and testing data\n",
    "X_train_processed = preprocessor.fit_transform(X_train)\n",
    "X_test_processed = preprocessor.transform(X_test)\n",
    "\n",
    "# Train the model - Logistic Regression\n",
    "model = LogisticRegression()\n",
    "model.fit(X_train_processed, y_train)\n",
    "y_pred = model.predict(X_test_processed)\n",
    "\n",
    "# 4.1. Interpretation - Extract the feature names after One-Hot Encoding\n",
    "encoded_columns = preprocessor.transformers_[1][1].get_feature_names_out(categorical_features)\n",
    "all_feature_names = numeric_features + list(encoded_columns)\n",
    "\n",
    "# 4.2. Display feature importance\n",
    "importance = model.coef_[0]\n",
    "for i, v in enumerate(importance):\n",
    "    print(f'Feature: {all_feature_names[i]}, Score: {v}')\n",
    "\n",
    "# 5. Model Evaluation\n",
    "print(f'Accuracy: {accuracy_score(y_test, y_pred)}')\n",
    "print(classification_report(y_test, y_pred))"
   ]
  },
  {
   "cell_type": "code",
   "execution_count": 71,
   "id": "bec84277",
   "metadata": {},
   "outputs": [
    {
     "name": "stdout",
     "output_type": "stream",
     "text": [
      "Gradient Boosting Accuracy: 0.455\n",
      "              precision    recall  f1-score   support\n",
      "\n",
      "          No       0.41      0.45      0.43        92\n",
      "         Yes       0.50      0.46      0.48       108\n",
      "\n",
      "    accuracy                           0.46       200\n",
      "   macro avg       0.45      0.45      0.45       200\n",
      "weighted avg       0.46      0.46      0.46       200\n",
      "\n"
     ]
    }
   ],
   "source": [
    "from sklearn.ensemble import GradientBoostingClassifier\n",
    "\n",
    "# Treinamento do Modelo - Gradient Boosting\n",
    "gb_model = GradientBoostingClassifier()\n",
    "gb_model.fit(X_train_processed, y_train)\n",
    "y_pred_gb = gb_model.predict(X_test_processed)\n",
    "\n",
    "# Avaliação do Modelo\n",
    "print(f'Gradient Boosting Accuracy: {accuracy_score(y_test, y_pred_gb)}')\n",
    "print(classification_report(y_test, y_pred_gb))\n"
   ]
  },
  {
   "cell_type": "code",
   "execution_count": 72,
   "id": "7e5ffdb6",
   "metadata": {},
   "outputs": [
    {
     "name": "stdout",
     "output_type": "stream",
     "text": [
      "SVM Accuracy: 0.45\n",
      "              precision    recall  f1-score   support\n",
      "\n",
      "          No       0.38      0.33      0.35        92\n",
      "         Yes       0.49      0.56      0.52       108\n",
      "\n",
      "    accuracy                           0.45       200\n",
      "   macro avg       0.44      0.44      0.44       200\n",
      "weighted avg       0.44      0.45      0.44       200\n",
      "\n"
     ]
    }
   ],
   "source": [
    "from sklearn.svm import SVC\n",
    "\n",
    "# Treinamento do Modelo - SVM\n",
    "svm_model = SVC()\n",
    "svm_model.fit(X_train_processed, y_train)\n",
    "y_pred_svm = svm_model.predict(X_test_processed)\n",
    "\n",
    "# Avaliação do Modelo\n",
    "print(f'SVM Accuracy: {accuracy_score(y_test, y_pred_svm)}')\n",
    "print(classification_report(y_test, y_pred_svm))\n"
   ]
  },
  {
   "cell_type": "code",
   "execution_count": null,
   "id": "cf27bd58",
   "metadata": {},
   "outputs": [],
   "source": []
  }
 ],
 "metadata": {
  "kernelspec": {
   "display_name": "Python 3 (ipykernel)",
   "language": "python",
   "name": "python3"
  },
  "language_info": {
   "codemirror_mode": {
    "name": "ipython",
    "version": 3
   },
   "file_extension": ".py",
   "mimetype": "text/x-python",
   "name": "python",
   "nbconvert_exporter": "python",
   "pygments_lexer": "ipython3",
   "version": "3.8.5"
  }
 },
 "nbformat": 4,
 "nbformat_minor": 5
}
